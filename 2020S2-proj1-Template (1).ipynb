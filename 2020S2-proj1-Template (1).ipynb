{
 "cells": [
  {
   "cell_type": "markdown",
   "metadata": {},
   "source": [
    "## The University of Melbourne, School of Computing and Information Systems\n",
    "# COMP90049 Introduction to Machine Learning, 2020 Semester 2\n",
    "-----\n",
    "## Project 1: Predicting stroke with Naive Bayes and K-NN\n",
    "-----\n",
    "###### Student Name(s):\n",
    "###### Python version:\n",
    "###### Submission deadline: "
   ]
  },
  {
   "cell_type": "markdown",
   "metadata": {},
   "source": [
    "This iPython notebook is a template which you will use for your Project 1 submission. \n",
    "\n",
    "Marking will be applied on the functions that are defined in this notebook, and to your responses to the questions at the end of this notebook.\n",
    "\n",
    "You may change the prototypes of these functions, and you may write other functions, according to your requirements. We would appreciate it if the required functions were prominent/easy to find. "
   ]
  },
  {
   "cell_type": "code",
   "execution_count": 2930,
   "metadata": {},
   "outputs": [],
   "source": [
    "import numpy as np\n",
    "import pandas as pd\n",
    "import matplotlib.pyplot as mpl\n",
    "import sklearn.metrics as met \n",
    "import math\n",
    "\n",
    "from sklearn.neighbors import KNeighborsClassifier"
   ]
  },
  {
   "cell_type": "code",
   "execution_count": 2931,
   "metadata": {},
   "outputs": [],
   "source": [
    "def header_name(file_data):\n",
    "    \n",
    "    headers = [header for header in file_data.columns.tolist()]\n",
    "    \n",
    "    return headers"
   ]
  },
  {
   "cell_type": "code",
   "execution_count": 2932,
   "metadata": {},
   "outputs": [],
   "source": [
    "def transpose_file_data(file_data):\n",
    "    \n",
    "    values = np.transpose(file_data.values.tolist())\n",
    "    \n",
    "    return values"
   ]
  },
  {
   "cell_type": "code",
   "execution_count": 2933,
   "metadata": {},
   "outputs": [],
   "source": [
    "def hist_plotter(headers, values, index):\n",
    "    \n",
    "    mpl.title(headers[index])\n",
    "    mpl.hist(np.array(values[index]))\n",
    "    return mpl.show()"
   ]
  },
  {
   "cell_type": "code",
   "execution_count": 2934,
   "metadata": {},
   "outputs": [],
   "source": [
    "def hist_plotter_heart_disease_stroke(processed_data):\n",
    "   \n",
    "    no_heart_stroke = []\n",
    "    no_heart_no_stroke = []\n",
    "    heart_no_stroke = []\n",
    "    heart_stroke = []\n",
    "    \n",
    "    heart_disease_stroke = processed_data.iloc[:,[5,10]]\n",
    "    \n",
    "    plotter_data = heart_disease_stroke.values.tolist()\n",
    "    \n",
    "    for index in range(len(plotter_data)):\n",
    "        if plotter_data[index][0] == 0 and plotter_data[index][1] == 0:\n",
    "            \n",
    "            no_heart_no_stroke.append(0)\n",
    "        \n",
    "        elif plotter_data[index][0] == 0 and plotter_data[index][1] == 1:\n",
    "        \n",
    "            no_heart_stroke.append(1)\n",
    "        \n",
    "        elif plotter_data[index][0] == 1 and plotter_data[index][1] == 0:\n",
    "            \n",
    "            heart_no_stroke.append(2)\n",
    "        \n",
    "        elif plotter_data[index][0] == 1 and plotter_data[index][0] == 1:\n",
    "            \n",
    "            heart_stroke.append(3)\n",
    "        \n",
    "        else:\n",
    "            print(\"error\")\n",
    "    \n",
    "    mpl.title(\"Some title\")\n",
    "    mpl.hist(np.array(no_heart_no_stroke))\n",
    "    mpl.hist(np.array(no_heart_stroke))\n",
    "    mpl.hist(np.array(heart_no_stroke))\n",
    "    mpl.hist(np.array(heart_stroke))\n",
    "    mpl.xlim([0,4])\n",
    "    mpl.xticks(np.arange(0,4,1))\n",
    "    mpl.show()"
   ]
  },
  {
   "cell_type": "code",
   "execution_count": 2935,
   "metadata": {},
   "outputs": [],
   "source": [
    "def hist_plotter_hypertension_stroke(processed_data):\n",
    "    \n",
    "    no_hyper_no_stroke = []\n",
    "    no_hyper_stroke = []\n",
    "    hyper_no_stroke = []\n",
    "    hyper_stroke = []\n",
    "    \n",
    "    hypertension_stroke = processed_data.iloc[:,[4,10]]\n",
    "    \n",
    "    plotter_data = hypertension_stroke.values.tolist()\n",
    "    \n",
    "    for index in range(len(plotter_data)):\n",
    "        if plotter_data[index][0] == 0 and plotter_data[index][1] == 0:\n",
    "            \n",
    "            no_hyper_no_stroke.append(0)\n",
    "        \n",
    "        elif plotter_data[index][0] == 0 and plotter_data[index][1] == 1:\n",
    "        \n",
    "            no_hyper_stroke.append(1)\n",
    "        \n",
    "        elif plotter_data[index][0] == 1 and plotter_data[index][1] == 0:\n",
    "            \n",
    "            hyper_no_stroke.append(2)\n",
    "        \n",
    "        elif plotter_data[index][0] == 1 and plotter_data[index][0] == 1:\n",
    "            \n",
    "            hyper_stroke.append(3)\n",
    "        \n",
    "        else:\n",
    "            print(\"error\")\n",
    "    \n",
    "    mpl.title(\"Some title\")\n",
    "    mpl.hist(np.array(no_hyper_no_stroke))\n",
    "    mpl.hist(np.array(no_hyper_stroke))\n",
    "    mpl.hist(np.array(hyper_no_stroke))\n",
    "    mpl.hist(np.array(hyper_stroke))\n",
    "    mpl.xlim([0,4])\n",
    "    mpl.xticks(np.arange(0,4,1))\n",
    "    mpl.show()"
   ]
  },
  {
   "cell_type": "code",
   "execution_count": 2936,
   "metadata": {},
   "outputs": [],
   "source": [
    "def hist_plotter_smoking_stroke(processed_data):\n",
    "    \n",
    "    never_smoked_no_stroke = []\n",
    "    never_smoked_stroke = []\n",
    "    formerly_smoked_no_stroke = []\n",
    "    formerly_smoked_stroke = []\n",
    "    smokes_no_stroke = []\n",
    "    smokes_stroke = []\n",
    "    \n",
    "    smoking_stroke = processed_data.iloc[:,[9,10]]\n",
    "    \n",
    "    plotter_data = smoking_stroke.values.tolist()\n",
    "    \n",
    "    for index in range(len(plotter_data)):\n",
    "        if plotter_data[index][0] == 1 and plotter_data[index][1] == 0:\n",
    "            \n",
    "            never_smoked_no_stroke.append(0)\n",
    "        \n",
    "        elif plotter_data[index][0] == 1 and plotter_data[index][1] == 1:\n",
    "        \n",
    "            never_smoked_stroke.append(1)\n",
    "        \n",
    "        elif plotter_data[index][0] == 0 and plotter_data[index][1] == 0:\n",
    "            \n",
    "            formerly_smoked_no_stroke.append(2)\n",
    "        \n",
    "        elif plotter_data[index][0] == 0 and plotter_data[index][1] == 1:\n",
    "            \n",
    "            formerly_smoked_stroke.append(3)\n",
    "            \n",
    "        elif plotter_data[index][0] == 2 and plotter_data[index][1] == 0:\n",
    "        \n",
    "            smokes_no_stroke.append(4)\n",
    "        \n",
    "        elif plotter_data[index][0] == 2 and plotter_data[index][1] == 1:\n",
    "        \n",
    "            smokes_stroke.append(5)\n",
    "        \n",
    "        else:\n",
    "            print(\"error\")\n",
    "    \n",
    "    mpl.title(\"Some title\")\n",
    "    mpl.hist(np.array(never_smoked_no_stroke))\n",
    "    mpl.hist(np.array(never_smoked_stroke))\n",
    "    mpl.hist(np.array(formerly_smoked_no_stroke))\n",
    "    mpl.hist(np.array(formerly_smoked_stroke))\n",
    "    mpl.hist(np.array(smokes_no_stroke))\n",
    "    mpl.hist(np.array(smokes_stroke))\n",
    "    mpl.xlim([0,6])\n",
    "    mpl.xticks(np.arange(0,6,1))\n",
    "    mpl.show()"
   ]
  },
  {
   "cell_type": "code",
   "execution_count": 2937,
   "metadata": {},
   "outputs": [],
   "source": [
    "# Helper functions to find instances\n",
    "def total_instances(file_data):\n",
    "    \n",
    "    n_instances = len(file_data.columns) - 1\n",
    "    \n",
    "    instances = file_data.iloc[:,:n_instances]\n",
    "    \n",
    "    return instances"
   ]
  },
  {
   "cell_type": "code",
   "execution_count": 2938,
   "metadata": {},
   "outputs": [],
   "source": [
    "def total_labels(file_data):\n",
    "    \n",
    "    labels = file_data.iloc[:,[-1]]\n",
    "    \n",
    "    return labels"
   ]
  },
  {
   "cell_type": "code",
   "execution_count": 2939,
   "metadata": {},
   "outputs": [],
   "source": [
    "# This function should transform data into a usable format \n",
    "def preprocess(csv_file_name):\n",
    "    \n",
    "    file_data = pd.read_csv(csv_file_name)\n",
    "    \n",
    "    #convert continuous values to integers\n",
    "    \n",
    "    #equal width division\n",
    "    \n",
    "    file_data[\"avg_glucose_level\"] = pd.cut(file_data[\"avg_glucose_level\"], bins=5, labels=[\"VeryLow\",\"Low\",\"Medium\",\"High\",\"VeryHigh\"])\n",
    "    file_data[\"bmi\"] = pd.cut(file_data[\"bmi\"], bins=5, labels=[\"VeryLow\",\"Low\",\"Medium\",\"High\",\"VeryHigh\"])\n",
    "    file_data[\"age\"] = pd.cut(file_data[\"age\"], bins=5, labels=[\"Young\",\"Adults\",\"MiddleAged\",\"OlderAdults\",\"Elderly\"])\n",
    "    \n",
    "    for attributes in file_data.columns:\n",
    "        values = sorted(set([value for value in file_data[attributes].values])) \n",
    "        temp_dict = dict(zip(values, range(len(values))))\n",
    "        file_data[attributes] = file_data[attributes].map(lambda key: temp_dict.get(key) if key in temp_dict else key)\n",
    "    \n",
    "    return file_data"
   ]
  },
  {
   "cell_type": "code",
   "execution_count": 2940,
   "metadata": {},
   "outputs": [],
   "source": [
    "# This function should split a data set into a training set and hold-out test set\n",
    "def split_data(file_data, ratio):\n",
    "    \n",
    "    train_data = file_data.sample(frac=ratio)\n",
    "    \n",
    "    test_data = file_data.drop(train_data.index)\n",
    "    \n",
    "    reordered_train_data = train_data.reset_index(drop=True)\n",
    "    \n",
    "    reordered_test_data = test_data.reset_index(drop=True)\n",
    "    \n",
    "    return reordered_train_data,reordered_test_data"
   ]
  },
  {
   "cell_type": "code",
   "execution_count": 2941,
   "metadata": {},
   "outputs": [],
   "source": [
    "def class_count(labels):\n",
    "    \n",
    "    class_labels = [0] * len(set([counts for column in labels.columns for counts in labels[column].values]))\n",
    "    \n",
    "    for column in labels.columns: \n",
    "        for index in labels[column].index:\n",
    "            class_labels[labels.at[index,column]] += 1\n",
    "        \n",
    "    return class_labels"
   ]
  },
  {
   "cell_type": "code",
   "execution_count": 2942,
   "metadata": {},
   "outputs": [],
   "source": [
    "def prior_probability(labels):\n",
    "    \n",
    "    N = len(labels.index)\n",
    "    \n",
    "    class_labels = class_count(labels)\n",
    "    \n",
    "    prior = [index / N for index in class_labels]\n",
    "        \n",
    "    return prior"
   ]
  },
  {
   "cell_type": "code",
   "execution_count": 2943,
   "metadata": {},
   "outputs": [],
   "source": [
    "def likelihoods(attributes,labels,epsilon):\n",
    "    \n",
    "    #will make dictionary of dictionary of dictionaries as it will be easier to manage values with attribute headings\n",
    "    \n",
    "    class_labels = [counts for column in labels.columns for counts in labels[column].values]\n",
    "    \n",
    "    stroke = {index:{} for index in range(len(set(class_labels)))}\n",
    "    \n",
    "    for label in stroke.keys():\n",
    "        for attribute in attributes.columns:\n",
    "            stroke[label][attribute] = {values:0 for values in set(attributes[attribute].values)}\n",
    "            \n",
    "    for attribute in attributes.columns:\n",
    "        for index in attributes[attribute].index:\n",
    "            stroke[class_labels[index]][attribute][attributes.at[index,attribute]] += 1\n",
    "            \n",
    "    for label in stroke.keys():\n",
    "        for attribute in stroke[label].keys():\n",
    "            for value in stroke[label][attribute]:\n",
    "                if stroke[label][attribute][value] > 0:\n",
    "                    stroke[label][attribute][value] = stroke[label][attribute][value] / class_count(labels)[label]\n",
    "                else:\n",
    "                    stroke[label][attribute][value] += epsilon\n",
    "    \n",
    "    return stroke"
   ]
  },
  {
   "cell_type": "code",
   "execution_count": 2944,
   "metadata": {},
   "outputs": [],
   "source": [
    "# option (2)\n",
    "\n",
    "# This function should build a supervised NB model\n",
    "\n",
    "def train_NB(train_data,epsilon):\n",
    "    \n",
    "    labels = total_labels(train_data)\n",
    "    \n",
    "    attributes = total_instances(train_data)\n",
    "    \n",
    "    prior = prior_probability(labels)\n",
    "    \n",
    "    likelihood_values = likelihoods(attributes,labels,epsilon)\n",
    "    \n",
    "    return prior, likelihood_values"
   ]
  },
  {
   "cell_type": "code",
   "execution_count": 2945,
   "metadata": {},
   "outputs": [],
   "source": [
    "def KNN(train_data,test_data,k):\n",
    "    \n",
    "    labels = total_labels(train_data)\n",
    "    \n",
    "    attributes = total_instances(train_data)\n",
    "    \n",
    "    test_attributes = total_instances(test_data)\n",
    "    \n",
    "    KNN_train = KNeighborsClassifier(n_neighbors = k)\n",
    "    \n",
    "    class_labels = [counts for column in labels.columns for counts in labels[column].values]\n",
    "    \n",
    "    KNN_train.fit(attributes,class_labels)\n",
    "    \n",
    "    KNN_prediction = KNN_train.predict(test_attributes)\n",
    "    \n",
    "    return KNN_prediction"
   ]
  },
  {
   "cell_type": "code",
   "execution_count": 2946,
   "metadata": {},
   "outputs": [],
   "source": [
    "def predictor(index,test_attributes,prior,likelihood_values):\n",
    "    \n",
    "    prediction_values = []\n",
    "    \n",
    "    for labels in range(len(prior)):\n",
    "        outputs = math.log(prior[labels]) \n",
    "        for column in test_attributes.columns:\n",
    "            if test_attributes.at[index,column] in likelihood_values[labels][column]:\n",
    "                outputs += math.log(likelihood_values[labels][column][test_attributes.at[index,column]])                \n",
    "        prediction_values.append(outputs)\n",
    "            \n",
    "    return np.argmax([prediction_values])"
   ]
  },
  {
   "cell_type": "code",
   "execution_count": 2947,
   "metadata": {},
   "outputs": [],
   "source": [
    "# This function should predict the class for an instance or a set of instances, based on a trained model \n",
    "def predict(test_data,prior,likelihood_values):\n",
    "    \n",
    "    all_outputs = []\n",
    "    \n",
    "    test_attributes = total_instances(test_data)\n",
    "    \n",
    "    for index in test_attributes.index:\n",
    "        all_outputs.append(predictor(index,test_attributes,prior,likelihood_values))\n",
    "    \n",
    "    return all_outputs"
   ]
  },
  {
   "cell_type": "code",
   "execution_count": 2948,
   "metadata": {},
   "outputs": [],
   "source": [
    "def zero_R(train_data,test_data):\n",
    "    \n",
    "    original_labels = total_labels(train_data)\n",
    "    \n",
    "    counts = class_count(original_labels)\n",
    "    \n",
    "    majority_class = counts.index(max(counts))\n",
    "    \n",
    "    baseline_predicted_class = [majority_class] * len(test_data)\n",
    "    \n",
    "    return baseline_predicted_class"
   ]
  },
  {
   "cell_type": "code",
   "execution_count": 2949,
   "metadata": {},
   "outputs": [],
   "source": [
    "# This function should evaluate a set of predictions in terms of metrics\n",
    "def evaluate(predicted_values,test_data):\n",
    "    \n",
    "    original_labels = total_labels(test_data)\n",
    "\n",
    "    original_test_labels = [counts for column in original_labels.columns for counts in original_labels[column].values]\n",
    "    \n",
    "    accuracy = met.accuracy_score(original_test_labels, predicted_values)\n",
    "    f1 = met.f1_score(original_test_labels,predicted_values, zero_division=0)\n",
    "    precision = met.precision_score(original_test_labels,predicted_values, zero_division=0)\n",
    "    recall = met.recall_score(original_test_labels,predicted_values, zero_division=0)\n",
    "    \n",
    "    return accuracy,f1,precision,recall"
   ]
  },
  {
   "cell_type": "markdown",
   "metadata": {},
   "source": [
    "## Questions (you may respond in a cell or cells below):\n",
    "\n",
    "You should respond to questions 1-3. In question 2 (b) you can choose between two options. A response to a question should take about 100--200 words, and make reference to the data wherever possible.\n",
    "\n",
    "### Question 1: Data exploration\n",
    "\n",
    "- a) Explore the data and summarise different aspects of the data. Can you see any interesting characteristic in features, classes or categories? What is the main issue with the data? Considering the issue, how would the Naive Bayes classifier work on this data? Discuss your answer based on the Naive Bayes' formulation.\n",
    "- b) Is accuracy an appropriate metric to evaluate the models created for this data? Justify your answer. Explain which metric(s) would be more appropriate, and contrast their utility against accuracy. [no programming required]\n",
    "\n"
   ]
  },
  {
   "cell_type": "code",
   "execution_count": 2967,
   "metadata": {},
   "outputs": [
    {
     "data": {
      "image/png": "[encoded data removed]",
      "text/plain": [
       "<Figure size 432x288 with 1 Axes>"
      ]
     },
     "metadata": {
      "needs_background": "light"
     },
     "output_type": "display_data"
    },
    {
     "data": {
      "image/png": "[encoded data removed]",
      "text/plain": [
       "<Figure size 432x288 with 1 Axes>"
      ]
     },
     "metadata": {
      "needs_background": "light"
     },
     "output_type": "display_data"
    }
   ],
   "source": [
    "#Question 1(a) Answer:\n",
    "\n",
    "processed_data = preprocess(\"stroke_update.csv\")\n",
    "\n",
    "headers = header_name(processed_data)\n",
    "\n",
    "values = transpose_file_data(processed_data)\n",
    "\n",
    "hypertension_column = 4\n",
    "\n",
    "hist_plotter(headers, values, hypertension_column)\n",
    "\n",
    "hist_plotter_hypertension_stroke(processed_data)"
   ]
  },
  {
   "cell_type": "code",
   "execution_count": 2951,
   "metadata": {},
   "outputs": [
    {
     "data": {
      "image/png": "[encoded data removed]",
      "text/plain": [
       "<Figure size 432x288 with 1 Axes>"
      ]
     },
     "metadata": {
      "needs_background": "light"
     },
     "output_type": "display_data"
    },
    {
     "data": {
      "image/png": "[encoded data removed]",
      "text/plain": [
       "<Figure size 432x288 with 1 Axes>"
      ]
     },
     "metadata": {
      "needs_background": "light"
     },
     "output_type": "display_data"
    }
   ],
   "source": [
    "#Question 1(a) Answer:\n",
    "\n",
    "hist_plotter(headers, values, 5)\n",
    "\n",
    "hist_plotter_heart_disease_stroke(processed_data)"
   ]
  },
  {
   "cell_type": "code",
   "execution_count": 2952,
   "metadata": {},
   "outputs": [
    {
     "data": {
      "image/png": "[encoded data removed]",
      "text/plain": [
       "<Figure size 432x288 with 1 Axes>"
      ]
     },
     "metadata": {
      "needs_background": "light"
     },
     "output_type": "display_data"
    },
    {
     "data": {
      "image/png": "[encoded data removed]",
      "text/plain": [
       "<Figure size 432x288 with 1 Axes>"
      ]
     },
     "metadata": {
      "needs_background": "light"
     },
     "output_type": "display_data"
    }
   ],
   "source": [
    "hist_plotter(headers, values, 9)\n",
    "\n",
    "hist_plotter_smoking_stroke(processed_data)"
   ]
  },
  {
   "cell_type": "markdown",
   "metadata": {},
   "source": [
    "Explore the data and summarise different aspects of the data. Can you see any interesting characteristic in features, classes or categories? What is the main issue with the data? Considering the issue, how would the Naive Bayes classifier work on this data? Discuss your answer based on the Naive Bayes' formulation.\n",
    "\n",
    "\n",
    "**Q1(a) Answer:** `Answer`"
   ]
  },
  {
   "cell_type": "markdown",
   "metadata": {},
   "source": [
    "**Q1(b) Answer:** `Answer`"
   ]
  },
  {
   "cell_type": "markdown",
   "metadata": {},
   "source": [
    "### Question 2: Naive Bayes concepts and formulation\n",
    "\n",
    "- a) Explain the independence assumption underlying Naive Bayes. What are the advantages and disadvantages of this assumption? Elaborate your answers using the features of the provided data. [no programming required]\n",
    "- b) Implement the Naive Bayes classifier. You need to decide how you are going to apply Naive Bayes for nominal and numeric attributes. You can combine both Gaussian and Categorical Naive Bayes (option 1) or just using Categorical Naive Bayes (option 2). Explain your decision. For Categorical Naive Bayes, you can choose either epsilon or Laplace smoothing for this calculation. Evaluate the classifier using accuracy and appropriate metric(s) on test data. Explain your observations on how the classifiers have performed based on the metric(s). Discuss the performance of the classifiers in comparison with the Zero-R baseline.\n",
    "- c) Explain the difference between epsilon and Laplace smoothing. [no programming required]"
   ]
  },
  {
   "cell_type": "markdown",
   "metadata": {},
   "source": [
    "**Q2(a) Answer:** `Answer`"
   ]
  },
  {
   "cell_type": "code",
   "execution_count": 2956,
   "metadata": {},
   "outputs": [
    {
     "name": "stdout",
     "output_type": "stream",
     "text": [
      "0.7874452554744527\n",
      "0.4555629979228478\n",
      "0.4677692531476467\n",
      "0.44640382949100377\n",
      "0.7999452554744526\n",
      "0.0\n",
      "0.0\n",
      "0.0\n"
     ]
    }
   ],
   "source": [
    "#Question 2(b) Answer:\n",
    "\n",
    "ratio = 0.8\n",
    "\n",
    "epsilon = 1e-10\n",
    "\n",
    "total_accuracy = []\n",
    "\n",
    "total_f1 = []\n",
    "\n",
    "total_precision = []\n",
    "\n",
    "total_recall = []\n",
    "\n",
    "total_baseline_accuracy = []\n",
    "\n",
    "total_baseline_f1 = []\n",
    "\n",
    "total_baseline_precision = []\n",
    "\n",
    "total_baseline_recall = []\n",
    "\n",
    "max_loop = 100\n",
    "\n",
    "for index in range(max_loop):\n",
    "    \n",
    "    train_data,test_data = split_data(processed_data,ratio)\n",
    "\n",
    "    prior,likelihood_values = train_NB(train_data,epsilon)\n",
    "\n",
    "    predictions = predict(test_data,prior,likelihood_values)\n",
    "\n",
    "    accuracy,f1,precision,recall = evaluate(predictions,test_data)\n",
    "    \n",
    "    total_accuracy.append(accuracy)\n",
    "    \n",
    "    total_f1.append(f1)\n",
    "    \n",
    "    total_precision.append(precision)\n",
    "    \n",
    "    total_recall.append(recall)\n",
    "\n",
    "    baseline_predicted_class = zero_R(train_data,test_data)\n",
    "    \n",
    "    baseline_accuracy,baseline_f1,baseline_precision,baseline_recall = evaluate(baseline_predicted_class,test_data)\n",
    "    \n",
    "    total_baseline_accuracy.append(baseline_accuracy)\n",
    "    \n",
    "    total_baseline_f1.append(baseline_f1)\n",
    "    \n",
    "    total_baseline_precision.append(baseline_precision)\n",
    "    \n",
    "    total_baseline_recall.append(baseline_recall)\n",
    "    \n",
    "\n",
    "print(np.sum(total_accuracy) / max_loop)\n",
    "\n",
    "print(np.sum(total_f1) / max_loop)\n",
    "\n",
    "print(np.sum(total_precision) / max_loop)\n",
    "\n",
    "print(np.sum(total_recall) / max_loop)\n",
    "\n",
    "print(np.sum(total_baseline_accuracy) / max_loop)\n",
    "\n",
    "print(np.sum(total_baseline_f1) / max_loop)\n",
    "\n",
    "print(np.sum(total_baseline_precision) / max_loop)\n",
    "\n",
    "print(np.sum(total_baseline_recall) / max_loop)"
   ]
  },
  {
   "cell_type": "markdown",
   "metadata": {},
   "source": [
    "**Q2(b) Answer:** `Answer`"
   ]
  },
  {
   "cell_type": "markdown",
   "metadata": {},
   "source": [
    "**Q2(c) Answer:** `Answer`"
   ]
  },
  {
   "cell_type": "markdown",
   "metadata": {},
   "source": [
    "### Question 3: Model Comparison\n",
    "- a) Implement the K-NN classifier, and find the optimal value for K. \n",
    "- b) Based on the obtained value for K in question 4 (a), evaluate the classifier using accuracy and chosen metric(s) on test data. Explain your observations on how the classifiers have performed based on the metric(s). Discuss the performance of the classifiers in comparison with the Zero-R baseline.\n",
    "- c) Compare the classifiers (Naive Bayes and K-NN) based on metrics' results. Provide a comparatory discussion on the results. [no programming required]"
   ]
  },
  {
   "cell_type": "code",
   "execution_count": 2966,
   "metadata": {},
   "outputs": [
    {
     "name": "stdout",
     "output_type": "stream",
     "text": [
      "0.8003339416058394\n",
      "0.2030222431258229\n",
      "0.4991442106200935\n",
      "0.12895281535534261\n",
      "0.8009270072992701\n",
      "0.0\n",
      "0.0\n",
      "0.0\n"
     ]
    }
   ],
   "source": [
    "#Question 3(a) and 3(b) Answer:\n",
    "\n",
    "total_accuracy = []\n",
    "\n",
    "total_f1 = []\n",
    "\n",
    "total_precision = []\n",
    "\n",
    "total_recall = []\n",
    "\n",
    "total_baseline_accuracy = []\n",
    "\n",
    "total_baseline_f1 = []\n",
    "\n",
    "total_baseline_precision = []\n",
    "\n",
    "total_baseline_recall = []\n",
    "\n",
    "K = 10\n",
    "\n",
    "max_loop = 100\n",
    "\n",
    "for value in range(K):\n",
    "\n",
    "    for index in range(max_loop):\n",
    "\n",
    "        train_data,test_data = split_data(processed_data,ratio)\n",
    "\n",
    "        predictions = KNN(train_data,test_data,K)\n",
    "\n",
    "        accuracy,f1,precision,recall = evaluate(predictions,test_data)\n",
    "\n",
    "        total_accuracy.append(accuracy)\n",
    "\n",
    "        total_f1.append(f1)\n",
    "\n",
    "        total_precision.append(precision)\n",
    "\n",
    "        total_recall.append(recall)\n",
    "\n",
    "        baseline_predicted_class = zero_R(train_data,test_data)\n",
    "\n",
    "        baseline_accuracy,baseline_f1,baseline_precision,baseline_recall = evaluate(baseline_predicted_class,test_data)\n",
    "\n",
    "        total_baseline_accuracy.append(baseline_accuracy)\n",
    "\n",
    "        total_baseline_f1.append(baseline_f1)\n",
    "\n",
    "        total_baseline_precision.append(baseline_precision)\n",
    "\n",
    "        total_baseline_recall.append(baseline_recall)\n",
    "\n",
    "print(np.sum(total_accuracy) / (max_loop*K))\n",
    "\n",
    "print(np.sum(total_f1) / (max_loop*K))\n",
    "\n",
    "print(np.sum(total_precision) / (max_loop*K))\n",
    "\n",
    "print(np.sum(total_recall) / (max_loop*K))\n",
    "\n",
    "print(np.sum(total_baseline_accuracy) / (max_loop*K))\n",
    "\n",
    "print(np.sum(total_baseline_f1) / (max_loop*K))\n",
    "\n",
    "print(np.sum(total_baseline_precision) / (max_loop*K))\n",
    "\n",
    "print(np.sum(total_baseline_recall) / (max_loop*K))"
   ]
  },
  {
   "cell_type": "markdown",
   "metadata": {},
   "source": [
    "**Q3(a) Answer:** `Answer`"
   ]
  },
  {
   "cell_type": "markdown",
   "metadata": {},
   "source": [
    "**Q3(b) Answer:** `Answer`"
   ]
  },
  {
   "cell_type": "markdown",
   "metadata": {},
   "source": [
    "**Q3(c) Answer:** `Answer`"
   ]
  }
 ],
 "metadata": {
  "kernelspec": {
   "display_name": "Python 3",
   "language": "python",
   "name": "python3"
  },
  "language_info": {
   "codemirror_mode": {
    "name": "ipython",
    "version": 3
   },
   "file_extension": ".py",
   "mimetype": "text/x-python",
   "name": "python",
   "nbconvert_exporter": "python",
   "pygments_lexer": "ipython3",
   "version": "3.6.9"
  }
 },
 "nbformat": 4,
 "nbformat_minor": 2
}
