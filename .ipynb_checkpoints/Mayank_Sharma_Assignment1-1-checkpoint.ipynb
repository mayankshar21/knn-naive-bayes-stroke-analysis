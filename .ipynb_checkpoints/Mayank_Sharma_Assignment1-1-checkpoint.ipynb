{
 "cells": [
  {
   "cell_type": "markdown",
   "metadata": {},
   "source": [
    "## The University of Melbourne, School of Computing and Information Systems\n",
    "# COMP90049 Introduction to Machine Learning, 2020 Semester 2\n",
    "-----\n",
    "## Project 1: Predicting stroke with Naive Bayes and K-NN\n",
    "-----\n",
    "###### Student Name(s): Mayank Sharma (936970)\n",
    "###### Python version: 3.6\n",
    "###### Submission deadline: 11th Sept 2020 - 5 PM "
   ]
  },
  {
   "cell_type": "code",
   "execution_count": 3135,
   "metadata": {},
   "outputs": [],
   "source": [
    "# Libraries imported and used for the assignment \n",
    "\n",
    "import numpy as np\n",
    "import pandas as pd\n",
    "import matplotlib.pyplot as mpl\n",
    "import sklearn.metrics as met \n",
    "import math\n",
    "\n",
    "from sklearn.neighbors import KNeighborsClassifier"
   ]
  },
  {
   "cell_type": "code",
   "execution_count": 3136,
   "metadata": {},
   "outputs": [],
   "source": [
    "# Helper function to return name of headers in for a given dataset\n",
    "\n",
    "def header_name(file_data):\n",
    "    \"\"\"Takes a file data as input and returns a list of header names\"\"\"\n",
    "    \n",
    "    headers = [header for header in file_data.columns.tolist()]\n",
    "    \n",
    "    return headers"
   ]
  },
  {
   "cell_type": "code",
   "execution_count": 3137,
   "metadata": {},
   "outputs": [],
   "source": [
    "# Helper function to return the given dataset as a transposed matrix\n",
    "\n",
    "def transpose_file_data(file_data):\n",
    "    \"\"\"Takes a file data as input and returns transposed matrix of the values\"\"\"\n",
    "   \n",
    "    values = np.transpose(file_data.values.tolist())\n",
    "    \n",
    "    return values"
   ]
  },
  {
   "cell_type": "code",
   "execution_count": 3138,
   "metadata": {},
   "outputs": [],
   "source": [
    "# Function to plot a histgram (frequency vs a specific column values)\n",
    "\n",
    "def hist_plotter(headers, values, index):\n",
    "    \"\"\"Takes headers, values and index as inputs and returns histogram\"\"\"\n",
    "    \n",
    "    mpl.title(headers[index])\n",
    "    mpl.hist(np.array(values[index]))\n",
    "    \n",
    "    return mpl.show()"
   ]
  },
  {
   "cell_type": "code",
   "execution_count": 3156,
   "metadata": {},
   "outputs": [],
   "source": [
    "# Function to plot histgram to show corelation between heart disease and stroke \n",
    "\n",
    "def hist_plotter_heart_disease_stroke(processed_data):\n",
    "    \"\"\"Takes processed data as input and returns a histogram as output\"\"\"\n",
    "    \n",
    "    no_heart_stroke = []\n",
    "    no_heart_no_stroke = []\n",
    "    heart_no_stroke = []\n",
    "    heart_stroke = []\n",
    "    \n",
    "    heart_disease_stroke = processed_data.iloc[:,[5,10]]\n",
    "    \n",
    "    plotter_data = heart_disease_stroke.values.tolist()\n",
    "    \n",
    "    for index in range(len(plotter_data)):\n",
    "        \n",
    "        # Stores values for no heart disease and no stroke\n",
    "        if plotter_data[index][0] == 0 and plotter_data[index][1] == 0:\n",
    "            \n",
    "            no_heart_no_stroke.append(0)\n",
    "        \n",
    "        # Stores values for no heart disease and but stroke\n",
    "        elif plotter_data[index][0] == 0 and plotter_data[index][1] == 1:\n",
    "        \n",
    "            no_heart_stroke.append(1)\n",
    "        \n",
    "        # Stores values for heart disease and but no stroke\n",
    "        elif plotter_data[index][0] == 1 and plotter_data[index][1] == 0:\n",
    "            \n",
    "            heart_no_stroke.append(2)\n",
    "        \n",
    "        # Stores values for heart disease and stroke\n",
    "        elif plotter_data[index][0] == 1 and plotter_data[index][0] == 1:\n",
    "            \n",
    "            heart_stroke.append(3)\n",
    "        \n",
    "        # error input\n",
    "        else:\n",
    "            print(\"error\")\n",
    "    \n",
    "    mpl.title('Graph of number of people verses combined set values of heart disease and stroke')\n",
    "    mpl.xlabel('Set values of heart disease and stroke (00,01,10,11) Fig 4')\n",
    "    mpl.ylabel('Number of people')\n",
    "    mpl.hist(np.array(no_heart_no_stroke)) # column 0\n",
    "    mpl.hist(np.array(no_heart_stroke)) # column 1\n",
    "    mpl.hist(np.array(heart_no_stroke)) # column 2\n",
    "    mpl.hist(np.array(heart_stroke)) # column 3\n",
    "    mpl.xlim([0,4])\n",
    "    mpl.xticks(np.arange(0,4,1))\n",
    "    \n",
    "    return mpl.show()"
   ]
  },
  {
   "cell_type": "code",
   "execution_count": 3157,
   "metadata": {},
   "outputs": [],
   "source": [
    "# Function to plot histgram to show corelation between hyper tension and stroke\n",
    "\n",
    "def hist_plotter_hypertension_stroke(processed_data):\n",
    "    \"\"\"Takes processed data as input and returns a histogram as output\"\"\"\n",
    "    \n",
    "    no_hyper_no_stroke = []\n",
    "    no_hyper_stroke = []\n",
    "    hyper_no_stroke = []\n",
    "    hyper_stroke = []\n",
    "    \n",
    "    hypertension_stroke = processed_data.iloc[:,[4,10]]\n",
    "    \n",
    "    plotter_data = hypertension_stroke.values.tolist()\n",
    "    \n",
    "    for index in range(len(plotter_data)):\n",
    "        \n",
    "        # Stores values for no hyper tension and no stroke\n",
    "        if plotter_data[index][0] == 0 and plotter_data[index][1] == 0:\n",
    "            \n",
    "            no_hyper_no_stroke.append(0)\n",
    "        \n",
    "        # Stores values for no hyper tension and but stroke\n",
    "        elif plotter_data[index][0] == 0 and plotter_data[index][1] == 1:\n",
    "        \n",
    "            no_hyper_stroke.append(1)\n",
    "        \n",
    "        # Stores values for hyper tension and but no stroke\n",
    "        elif plotter_data[index][0] == 1 and plotter_data[index][1] == 0:\n",
    "            \n",
    "            hyper_no_stroke.append(2)\n",
    "        \n",
    "        # Stores values for hyper tension and stroke\n",
    "        elif plotter_data[index][0] == 1 and plotter_data[index][0] == 1:\n",
    "            \n",
    "            hyper_stroke.append(3)\n",
    "        \n",
    "        # error input\n",
    "        else:\n",
    "            print(\"error\")\n",
    "    \n",
    "    mpl.title('Graph of number of people verses combined set values of hyper tension and stroke')\n",
    "    mpl.xlabel('Set values of hyper tension and stroke (00,01,10,11) Fig 2')\n",
    "    mpl.ylabel('Number of people')\n",
    "    mpl.hist(np.array(no_hyper_no_stroke)) # column 0\n",
    "    mpl.hist(np.array(no_hyper_stroke)) # column 1\n",
    "    mpl.hist(np.array(hyper_no_stroke)) # column 2\n",
    "    mpl.hist(np.array(hyper_stroke)) # column 3\n",
    "    mpl.xlim([0,4])\n",
    "    mpl.xticks(np.arange(0,4,1))\n",
    "    \n",
    "    return mpl.show()"
   ]
  },
  {
   "cell_type": "code",
   "execution_count": 3158,
   "metadata": {},
   "outputs": [],
   "source": [
    "# Function to plot histgram to show corelation between smoking status and stroke\n",
    "\n",
    "def hist_plotter_smoking_stroke(processed_data):\n",
    "    \"\"\"Takes processed data as input and returns a histogram as output\"\"\"\n",
    "    \n",
    "    never_smoked_no_stroke = []\n",
    "    never_smoked_stroke = []\n",
    "    formerly_smoked_no_stroke = []\n",
    "    formerly_smoked_stroke = []\n",
    "    smokes_no_stroke = []\n",
    "    smokes_stroke = []\n",
    "    \n",
    "    smoking_stroke = processed_data.iloc[:,[9,10]]\n",
    "    \n",
    "    plotter_data = smoking_stroke.values.tolist()\n",
    "    \n",
    "    for index in range(len(plotter_data)):\n",
    "        \n",
    "        # Stores values for never smoked and no stroke\n",
    "        if plotter_data[index][0] == 1 and plotter_data[index][1] == 0:\n",
    "            \n",
    "            never_smoked_no_stroke.append(0)\n",
    "            \n",
    "        # Stores values for never smoked and stroke\n",
    "        elif plotter_data[index][0] == 1 and plotter_data[index][1] == 1:\n",
    "        \n",
    "            never_smoked_stroke.append(1)\n",
    "        \n",
    "        # Stores values for formally smoked and no stroke\n",
    "        elif plotter_data[index][0] == 0 and plotter_data[index][1] == 0:\n",
    "            \n",
    "            formerly_smoked_no_stroke.append(2)\n",
    "        \n",
    "        # Stores values for formally smoked and stroke\n",
    "        elif plotter_data[index][0] == 0 and plotter_data[index][1] == 1:\n",
    "            \n",
    "            formerly_smoked_stroke.append(3)\n",
    "            \n",
    "        # Stores values for smokes and no stroke\n",
    "        elif plotter_data[index][0] == 2 and plotter_data[index][1] == 0:\n",
    "        \n",
    "            smokes_no_stroke.append(4)\n",
    "        \n",
    "        # Stores values for smokes and stroke\n",
    "        elif plotter_data[index][0] == 2 and plotter_data[index][1] == 1:\n",
    "        \n",
    "            smokes_stroke.append(5)\n",
    "        \n",
    "        else:\n",
    "            print(\"error\")\n",
    "    \n",
    "    mpl.title('Graph of number of people verses combined set values of smoking status and stroke')\n",
    "    mpl.xlabel('Set values of smoking status and stroke (formally0,formaly1,never0,never1,smokes1,smokes1) Fig 6')\n",
    "    mpl.ylabel('Number of people')\n",
    "    mpl.hist(np.array(never_smoked_no_stroke)) # column 0\n",
    "    mpl.hist(np.array(never_smoked_stroke)) # column 1\n",
    "    mpl.hist(np.array(formerly_smoked_no_stroke)) # column 2\n",
    "    mpl.hist(np.array(formerly_smoked_stroke)) # column 3\n",
    "    mpl.hist(np.array(smokes_no_stroke)) # column 4\n",
    "    mpl.hist(np.array(smokes_stroke)) # column 5\n",
    "    mpl.xlim([0,6]) \n",
    "    mpl.xticks(np.arange(0,6,1))\n",
    "    \n",
    "    return mpl.show()"
   ]
  },
  {
   "cell_type": "code",
   "execution_count": 3159,
   "metadata": {},
   "outputs": [],
   "source": [
    "# Helper function to get instances of file data\n",
    "def total_instances(file_data):\n",
    "    \"\"\"Takes inputs as file_data and returns instances\"\"\"\n",
    "    n_instances = len(file_data.columns) - 1\n",
    "    \n",
    "    instances = file_data.iloc[:,:n_instances]\n",
    "    \n",
    "    return instances"
   ]
  },
  {
   "cell_type": "code",
   "execution_count": 3160,
   "metadata": {},
   "outputs": [],
   "source": [
    "# Helper function to get labels of file data\n",
    "def total_labels(file_data):\n",
    "    \"\"\"Takes input as file_data and returns labels\"\"\"\n",
    "    labels = file_data.iloc[:,[-1]]\n",
    "    \n",
    "    return labels"
   ]
  },
  {
   "cell_type": "code",
   "execution_count": 3161,
   "metadata": {},
   "outputs": [],
   "source": [
    "# This function should transform data into a usable format \n",
    "def preprocess(csv_file_name):\n",
    "    \"\"\"Takes input as a csv file and returns the file_data\"\"\"\n",
    "    file_data = pd.read_csv(csv_file_name)\n",
    "    \n",
    "    # Convert continuous values to categorical values by grouping them in groups of 5 with fixed width\n",
    "    # Renames the groups with labels\n",
    "    file_data[\"avg_glucose_level\"] = pd.cut(file_data[\"avg_glucose_level\"], bins=5, labels=[\"VeryLow\",\"Low\",\"Medium\",\"High\",\"VeryHigh\"])\n",
    "    file_data[\"bmi\"] = pd.cut(file_data[\"bmi\"], bins=5, labels=[\"VeryLow\",\"Low\",\"Medium\",\"High\",\"VeryHigh\"])\n",
    "    file_data[\"age\"] = pd.cut(file_data[\"age\"], bins=5, labels=[\"Young\",\"Adults\",\"MiddleAged\",\"OlderAdults\",\"Elderly\"])\n",
    "    \n",
    "    # Converts the labels to integer values\n",
    "    # Code adapted from week 4 code demo\n",
    "    # Code modified to be used with dataframe structure rather than list\n",
    "    for attributes in file_data.columns:\n",
    "        values = sorted(set([value for value in file_data[attributes].values])) \n",
    "        temp_dict = dict(zip(values, range(len(values))))\n",
    "        file_data[attributes] = file_data[attributes].map(lambda key: temp_dict.get(key) if key in temp_dict else key)\n",
    "    \n",
    "    return file_data"
   ]
  },
  {
   "cell_type": "code",
   "execution_count": 3162,
   "metadata": {},
   "outputs": [],
   "source": [
    "# This function should split a data set into a training set and hold-out test set\n",
    "def split_data(file_data, ratio):\n",
    "    \"\"\"Takes file data and ratio of split as input and returns training data and testing data\"\"\"\n",
    "    \n",
    "    # Splits file data into training data and testing data\n",
    "    train_data = file_data.sample(frac=ratio)\n",
    "    test_data = file_data.drop(train_data.index)\n",
    "    \n",
    "    # Reorder the index\n",
    "    reordered_train_data = train_data.reset_index(drop=True)\n",
    "    reordered_test_data = test_data.reset_index(drop=True)\n",
    "    \n",
    "    return reordered_train_data,reordered_test_data"
   ]
  },
  {
   "cell_type": "code",
   "execution_count": 3163,
   "metadata": {},
   "outputs": [],
   "source": [
    "# Helper function to return total counts of class labels\n",
    "#\n",
    "def class_count(labels):\n",
    "    \"Takes input as labels and returns count of class labels\"\n",
    "    \n",
    "    class_labels = [0] * len(set([counts for column in labels.columns for counts in labels[column].values]))\n",
    "    \n",
    "    # Counting values for each label and storing in index\n",
    "    for column in labels.columns: \n",
    "        for index in labels[column].index:\n",
    "            class_labels[labels.at[index,column]] += 1\n",
    "        \n",
    "    return class_labels"
   ]
  },
  {
   "cell_type": "code",
   "execution_count": 3164,
   "metadata": {},
   "outputs": [],
   "source": [
    "# Helper function to calculate prior probability P(y=i) = count(i) / N\n",
    "def prior_probability(labels):\n",
    "    \"\"\"Takes input as labels and returns the prior probability\"\"\"\n",
    "    N = len(labels.index)\n",
    "    \n",
    "    class_labels = class_count(labels)\n",
    "    \n",
    "    prior = [index / N for index in class_labels]\n",
    "        \n",
    "    return prior"
   ]
  },
  {
   "cell_type": "code",
   "execution_count": 3165,
   "metadata": {},
   "outputs": [],
   "source": [
    "# Helper function to calculate the likelihoods p(x=j|y=i) = count(i,j)/count(i)\n",
    "# Code adapted from week 4 code demo. Code modified to be used with dataframe structure rather than list\n",
    "\n",
    "def likelihoods(attributes,labels,epsilon):\n",
    "    \"\"\"Takes attributes, labels and epsilon value and returns a dictionary of conditional probabilities\"\"\"\n",
    "    \n",
    "    class_labels = [counts for column in labels.columns for counts in labels[column].values]\n",
    "    \n",
    "    stroke = {index:{} for index in range(len(set(class_labels)))}\n",
    "    \n",
    "    # Initialising the dictionary with 0\n",
    "    for label in stroke.keys():\n",
    "        for attribute in attributes.columns:\n",
    "            stroke[label][attribute] = {values:0 for values in set(attributes[attribute].values)}\n",
    "    \n",
    "    # Counting values for each attribute and storing in the dictionary\n",
    "    for attribute in attributes.columns:\n",
    "        for index in attributes[attribute].index:\n",
    "            stroke[class_labels[index]][attribute][attributes.at[index,attribute]] += 1\n",
    "    \n",
    "    # Calculates probability by dividing bt prior probability\n",
    "    for label in stroke.keys():\n",
    "        for attribute in stroke[label].keys():\n",
    "            for value in stroke[label][attribute]:\n",
    "                if stroke[label][attribute][value] > 0:\n",
    "                    stroke[label][attribute][value] = stroke[label][attribute][value] / class_count(labels)[label]\n",
    "                else:\n",
    "                    stroke[label][attribute][value] += epsilon # if less than 0 than added epsilon\n",
    "    \n",
    "    return stroke"
   ]
  },
  {
   "cell_type": "code",
   "execution_count": 3166,
   "metadata": {},
   "outputs": [],
   "source": [
    "# Used Categorical Naive Base option 2\n",
    "# This function should build a supervised NB model\n",
    "def train_NB(train_data,epsilon):\n",
    "    \"\"\"Takes training data and epsilon and returns prior probability and likelihood values\"\"\"\n",
    "    labels = total_labels(train_data)\n",
    "    \n",
    "    attributes = total_instances(train_data)\n",
    "    \n",
    "    prior = prior_probability(labels)\n",
    "    \n",
    "    likelihood_values = likelihoods(attributes,labels,epsilon)\n",
    "    \n",
    "    return prior, likelihood_values"
   ]
  },
  {
   "cell_type": "code",
   "execution_count": 3167,
   "metadata": {},
   "outputs": [],
   "source": [
    "# Function to build, train and predict KNN classifier\n",
    "def KNN(train_data,test_data,k):\n",
    "    \"\"\"Takes training data, testing data and K as inputs and returns the predicted values\"\"\"\n",
    "    \n",
    "    labels = total_labels(train_data)\n",
    "    \n",
    "    attributes = total_instances(train_data)\n",
    "    \n",
    "    test_attributes = total_instances(test_data)\n",
    "    \n",
    "    KNN_train = KNeighborsClassifier(n_neighbors = k)\n",
    "    \n",
    "    class_labels = [counts for column in labels.columns for counts in labels[column].values]\n",
    "    \n",
    "    KNN_train.fit(attributes,class_labels) # Train\n",
    "    \n",
    "    KNN_prediction = KNN_train.predict(test_attributes) # Predict\n",
    "    \n",
    "    return KNN_prediction"
   ]
  },
  {
   "cell_type": "code",
   "execution_count": 3168,
   "metadata": {},
   "outputs": [],
   "source": [
    "# Helper function to predict the values of the test input\n",
    "# Code adapted from week 4 code demo \n",
    "# Code modified to be used with dataframe structure rather than list\n",
    "def predictor(index,test_attributes,prior,likelihood_values):\n",
    "    \"\"\"Takes index, test_attributes, prior and likelihood_values as inputs and returns argmax values\"\"\"\n",
    "    prediction_values = []\n",
    "    \n",
    "    # uses log and added the prior probabilities and conditional probabilities\n",
    "    for labels in range(len(prior)):\n",
    "        outputs = math.log(prior[labels]) \n",
    "        for column in test_attributes.columns:\n",
    "            if test_attributes.at[index,column] in likelihood_values[labels][column]:\n",
    "                outputs += math.log(likelihood_values[labels][column][test_attributes.at[index,column]])                \n",
    "        prediction_values.append(outputs)\n",
    "            \n",
    "    return np.argmax([prediction_values])"
   ]
  },
  {
   "cell_type": "code",
   "execution_count": 3169,
   "metadata": {},
   "outputs": [],
   "source": [
    "# This function should predict the class for an instance or a set of instances, based on a trained model \n",
    "def predict(test_data,prior,likelihood_values):\n",
    "    \"\"\"Takes test data, prior and likelihood values and returns the predicted values\"\"\"\n",
    "    all_outputs = []\n",
    "    \n",
    "    test_attributes = total_instances(test_data)\n",
    "    \n",
    "    for index in test_attributes.index:\n",
    "        all_outputs.append(predictor(index,test_attributes,prior,likelihood_values))\n",
    "    \n",
    "    return all_outputs"
   ]
  },
  {
   "cell_type": "code",
   "execution_count": 3170,
   "metadata": {},
   "outputs": [],
   "source": [
    "# Function to calculate baseline predictions using Zero-R\n",
    "def zero_R(train_data,test_data):\n",
    "    \"\"\"Takes train data and test data and return baseline predictions\"\"\"\n",
    "    original_labels = total_labels(train_data)\n",
    "    \n",
    "    counts = class_count(original_labels)\n",
    "    \n",
    "    majority_class = counts.index(max(counts))\n",
    "    \n",
    "    baseline_predicted_class = [majority_class] * len(test_data)\n",
    "    \n",
    "    return baseline_predicted_class"
   ]
  },
  {
   "cell_type": "code",
   "execution_count": 3171,
   "metadata": {},
   "outputs": [],
   "source": [
    "# This function should evaluate a set of predictions in terms of metrics\n",
    "def evaluate(predicted_values,test_data):\n",
    "    \"\"\"Takes predicted values and test data and returns the evaluation metrics results\"\"\"\n",
    "    original_labels = total_labels(test_data)\n",
    "\n",
    "    original_test_labels = [counts for column in original_labels.columns for counts in original_labels[column].values]\n",
    "    \n",
    "    accuracy = met.accuracy_score(original_test_labels, predicted_values) # accuracy\n",
    "    f1 = met.f1_score(original_test_labels,predicted_values, zero_division=0) # f1 score\n",
    "    precision = met.precision_score(original_test_labels,predicted_values, zero_division=0) # precision\n",
    "    recall = met.recall_score(original_test_labels,predicted_values, zero_division=0) # recall\n",
    "    \n",
    "    return accuracy,f1,precision,recall"
   ]
  },
  {
   "cell_type": "markdown",
   "metadata": {},
   "source": [
    "## Questions (you may respond in a cell or cells below):\n",
    "\n",
    "You should respond to questions 1-3. In question 2 (b) you can choose between two options. A response to a question should take about 100--200 words, and make reference to the data wherever possible.\n",
    "\n",
    "### Question 1: Data exploration\n",
    "\n",
    "- a) Explore the data and summarise different aspects of the data. Can you see any interesting characteristic in features, classes or categories? What is the main issue with the data? Considering the issue, how would the Naive Bayes classifier work on this data? Discuss your answer based on the Naive Bayes' formulation.\n",
    "- b) Is accuracy an appropriate metric to evaluate the models created for this data? Justify your answer. Explain which metric(s) would be more appropriate, and contrast their utility against accuracy. [no programming required]\n",
    "\n"
   ]
  },
  {
   "cell_type": "code",
   "execution_count": 3172,
   "metadata": {},
   "outputs": [
    {
     "data": {
      "image/png": "[encoded data removed]",
      "text/plain": [
       "<Figure size 432x288 with 1 Axes>"
      ]
     },
     "metadata": {
      "needs_background": "light"
     },
     "output_type": "display_data"
    },
    {
     "data": {
      "image/png": "[encoded data removed]",
      "text/plain": [
       "<Figure size 432x288 with 1 Axes>"
      ]
     },
     "metadata": {
      "needs_background": "light"
     },
     "output_type": "display_data"
    }
   ],
   "source": [
    "#Question 1(a) Answer:\n",
    "\n",
    "processed_data = preprocess(\"stroke_update.csv\")\n",
    "\n",
    "headers = header_name(processed_data)\n",
    "\n",
    "values = transpose_file_data(processed_data)\n",
    "\n",
    "hypertension_column = 4\n",
    "\n",
    "# Output of histogram for number of people vs hypertension\n",
    "hist_plotter(headers, values, hypertension_column)\n",
    "\n",
    "# Output of histogram for number of people vs (hypertension,stroke)\n",
    "hist_plotter_hypertension_stroke(processed_data)"
   ]
  },
  {
   "cell_type": "code",
   "execution_count": 3173,
   "metadata": {},
   "outputs": [
    {
     "data": {
      "image/png": "[encoded data removed]",
      "text/plain": [
       "<Figure size 432x288 with 1 Axes>"
      ]
     },
     "metadata": {
      "needs_background": "light"
     },
     "output_type": "display_data"
    },
    {
     "data": {
      "image/png": "[encoded data removed]",
      "text/plain": [
       "<Figure size 432x288 with 1 Axes>"
      ]
     },
     "metadata": {
      "needs_background": "light"
     },
     "output_type": "display_data"
    }
   ],
   "source": [
    "#Question 1(a) Answer:\n",
    "\n",
    "heartdisease_column = 5\n",
    "\n",
    "# Output of histogram for number of people vs heartdisease\n",
    "hist_plotter(headers, values, heartdisease_column)\n",
    "\n",
    "# Output of histogram for number of people vs (heartdisease,stroke)\n",
    "hist_plotter_heart_disease_stroke(processed_data)"
   ]
  },
  {
   "cell_type": "code",
   "execution_count": 3174,
   "metadata": {},
   "outputs": [
    {
     "data": {
      "image/png": "[encoded data removed]",
      "text/plain": [
       "<Figure size 432x288 with 1 Axes>"
      ]
     },
     "metadata": {
      "needs_background": "light"
     },
     "output_type": "display_data"
    },
    {
     "data": {
      "image/png": "[encoded data removed]",
      "text/plain": [
       "<Figure size 432x288 with 1 Axes>"
      ]
     },
     "metadata": {
      "needs_background": "light"
     },
     "output_type": "display_data"
    }
   ],
   "source": [
    "#Question 1(a) Answer:\n",
    "\n",
    "smokingstatus_column = 9\n",
    "\n",
    "# Output of histogram for number of people vs smoking status\n",
    "hist_plotter(headers, values, smokingstatus_column)\n",
    "\n",
    "# Output of histogram for number of people vs (smoking status,stroke)\n",
    "hist_plotter_smoking_stroke(processed_data)"
   ]
  },
  {
   "cell_type": "markdown",
   "metadata": {},
   "source": [
    "**Q1(a) Answer:** According to prior knowledge about the correlation of hypertension, heart disease, smoking and stroke, having any heart condition, hypertension and a smoking habit increase the risk of stroke. However, in this data, there are instances where this correlation becomes weak. For example, in $Fig 2$, there are more people who have no hypertension but had a stroke $(yellow)$ than who have both $(red)$. This can be seen in $Fig 4$ as well where people who have no heart disease but had a stroke $(yellow)$ is more than who had both $(red)$. Moreover, even though there are more people in the data who formally smoked according to $Fig 5$ $(column 1.0)$. The proportion of people who formally smoked and had a stroke is far less $(yellow)$ than those who had no stroke $(blue)$.\n",
    "\n",
    "The main issue with the data is that it is a mixture of categorical, ordinal and continuous data. For the Naive Baye's classifier to work, all the attributes except for the class will need to be either converted to categorical values first for categorical Naive Bayes' or continuous values for generative Naive Bayes'. For generative Naive Bayes' the likelihood values $P(Xm|Y)$ follow a gaussian distribution where as for categorical Naive Bayes' the likelihood values $P(Xm|Y)$ follow a categorical distribution. The class labels are categorical values and hence $P(Y)$ is categorical."
   ]
  },
  {
   "cell_type": "markdown",
   "metadata": {},
   "source": [
    "**Q1(b) Answer:** $Accuracy$ is not an appropriate metric to evaluate the models as it only provides a measure of the number of correctly labelled test classes out of all the classes. Moreover, the accuracy metric will not be a strong evaluator if the values in the dataset have an uneven distribution. To have a better understanding of the values predicted correctly, false positives and false negatives, $Precision$, $F1$ $Score$ and $Recall$ should also be calculated. For example, a learning model with training data having a larger proportion of a specific label will give a more biased result for testing data. Therefore, accuracy cannot be an appropriate metric and calculating the other listed metrics can give a better understanding of the number of correctly predicted classes and classes that have been wrongly predicted for a learning model."
   ]
  },
  {
   "cell_type": "markdown",
   "metadata": {},
   "source": [
    "### Question 2: Naive Bayes concepts and formulation\n",
    "\n",
    "- a) Explain the independence assumption underlying Naive Bayes. What are the advantages and disadvantages of this assumption? Elaborate your answers using the features of the provided data. [no programming required]\n",
    "- b) Implement the Naive Bayes classifier. You need to decide how you are going to apply Naive Bayes for nominal and numeric attributes. You can combine both Gaussian and Categorical Naive Bayes (option 1) or just using Categorical Naive Bayes (option 2). Explain your decision. For Categorical Naive Bayes, you can choose either epsilon or Laplace smoothing for this calculation. Evaluate the classifier using accuracy and appropriate metric(s) on test data. Explain your observations on how the classifiers have performed based on the metric(s). Discuss the performance of the classifiers in comparison with the Zero-R baseline.\n",
    "- c) Explain the difference between epsilon and Laplace smoothing. [no programming required]"
   ]
  },
  {
   "cell_type": "markdown",
   "metadata": {},
   "source": [
    "**Q2(a) Answer:** The independence assumption states that each feature in an instance given a class is independent of all the other features in the same instance. This means that all the features in an instance in a given dataset are not related to each other. The advantage is that joint probability is infeasible to calculate when there multiple features in the dataset such as the stroke dataset. Therefore, it removes the need for calculating the distribution over conditional probability $P(Y|X)$ and hence will be able to scale easily when there are too many features. The disadvantage is that in reality, data is corelated. For example in our stroke dataset, there are features included that directly affect the possible of having a stroke in real life. According to $Fig 2$ $(blue)$ $Fig 4$ $(blue)$ and $Fig 6$ $(blue)$ above, the dataset also shows signs of a corelation where a large number of people who do not have hypertension, heart disease and do not smoke also did not have a stroke."
   ]
  },
  {
   "cell_type": "code",
   "execution_count": 3175,
   "metadata": {},
   "outputs": [
    {
     "name": "stdout",
     "output_type": "stream",
     "text": [
      "Accuracy: 0.7802919708029197, F1-score: 0.44918946709486784, Precision: 0.44689600568478244, Recall: 0.45246152373435466\n",
      "\n",
      "\n",
      "Baseline Accuracy: 0.8014598540145986, Baseline F1-score: 0.0, Baseline Precision: 0.0, Baseline Recall: 0.0\n"
     ]
    }
   ],
   "source": [
    "#Question 2(b) Answer: Option 2\n",
    "\n",
    "# We ran the model for 10 iterations and averaged our results. For each time the program is tested, \n",
    "# different average values of the metrics are obtained as our `split-data` function randomly assigns \n",
    "# an instance to the training dataset or the testing dataset based on the ratio of the split. \n",
    "\n",
    "# Ratio is set to 0.8 to have a larger training data set than testing data set\n",
    "\n",
    "# ratio to split the training data and testing data\n",
    "ratio = 0.8\n",
    "\n",
    "# Epsilon value set to 1e-10\n",
    "epsilon = 1e-10\n",
    "\n",
    "total_accuracy = []\n",
    "\n",
    "total_f1 = []\n",
    "\n",
    "total_precision = []\n",
    "\n",
    "total_recall = []\n",
    "\n",
    "total_baseline_accuracy = []\n",
    "\n",
    "total_baseline_f1 = []\n",
    "\n",
    "total_baseline_precision = []\n",
    "\n",
    "total_baseline_recall = []\n",
    "\n",
    "max_loop = 10\n",
    "\n",
    "# Runs the Naive Bayes classifier for 10 iterations and find the average performance metrics\n",
    "for index in range(max_loop):\n",
    "    \n",
    "    train_data,test_data = split_data(processed_data,ratio)\n",
    "\n",
    "    prior,likelihood_values = train_NB(train_data,epsilon) # Train NB\n",
    "\n",
    "    predictions = predict(test_data,prior,likelihood_values) # Predict NB\n",
    "\n",
    "    accuracy,f1,precision,recall = evaluate(predictions,test_data) # Evaluate NB\n",
    "    \n",
    "    total_accuracy.append(accuracy)\n",
    "    \n",
    "    total_f1.append(f1)\n",
    "    \n",
    "    total_precision.append(precision)\n",
    "    \n",
    "    total_recall.append(recall)\n",
    "\n",
    "    baseline_predicted_class = zero_R(train_data,test_data) # Calculate Baseline predictions\n",
    "    \n",
    "    # Evaluating Baseline predictions\n",
    "    baseline_accuracy,baseline_f1,baseline_precision,baseline_recall = evaluate(baseline_predicted_class,test_data)\n",
    "    \n",
    "    total_baseline_accuracy.append(baseline_accuracy)\n",
    "    \n",
    "    total_baseline_f1.append(baseline_f1)\n",
    "    \n",
    "    total_baseline_precision.append(baseline_precision)\n",
    "    \n",
    "    total_baseline_recall.append(baseline_recall)\n",
    "    \n",
    "# Values are calculated and averaged\n",
    "print('Accuracy: {0}, F1-score: {1}, Precision: {2}, Recall: {3}'\n",
    "                  .format((np.sum(total_accuracy) / max_loop),\n",
    "                  (np.sum(total_f1) / max_loop),\n",
    "                  (np.sum(total_precision) / max_loop),\n",
    "                 (np.sum(total_recall) / max_loop)))\n",
    "\n",
    "print('\\n')\n",
    "print('Baseline Accuracy: {0}, Baseline F1-score: {1}, Baseline Precision: {2}, Baseline Recall: {3}'\n",
    "                  .format((np.sum(total_baseline_accuracy) / max_loop),\n",
    "                 (np.sum(total_baseline_f1) / max_loop),\n",
    "                 (np.sum(total_baseline_precision) / max_loop),\n",
    "                  (np.sum(total_baseline_recall) / max_loop)))"
   ]
  },
  {
   "cell_type": "markdown",
   "metadata": {},
   "source": [
    "**Q2(b) Answer:** We decided to go with Categorial Naive Bayes only $(option 2)$ and epsilon smoothing for our model. Categorical Naive Bayes was chosen because Gaussian Naive Bayes theorem is based on Gaussian distribution which is based on Gaussian assumption. Naive Bayes makes an assumption on the distribution shape and therefore would not give us the true performance metrics of our model.\n",
    "\n",
    "Based on the metrics we estimated the accuracy of the model to be around $\\approx 0.780$. Our $F1-score$, $Accuracy$ and $Recall$ all come to around $\\approx 0.44$ which are close to middle. This means that our model is calculating less truly positive values. Also for the same true positive values, our classifier is predicting similiar false positive and false negative values. This could be due to bias in data created by converting numerical values to categorical values. \n",
    "\n",
    "When comparing with $Zero-R$ baseline rule. We again obtained a similar performance with $\\approx 0.801$. The other metrics were $0$ for $Zero-R$ rule due to zero division. This means that our classifier's performance is close to baseline which means there was no prediction improvements by it. One reason could be due to usage of holdout method used for the spliting of data into training and test datasets and proper distribution was not obtained in the datasets.\n",
    "   \n"
   ]
  },
  {
   "cell_type": "markdown",
   "metadata": {},
   "source": [
    "**Q2(c) Answer:** In epsilon smoothing, when we calculate $P(Xm|Y) = 0$, we replace the $0$ value with a very small constant called $\\epsilon$. This constant needs to be very small as we do not want other probabilistic values in our model to be shadowed. Therefore the ideal value is considered to be $1 + \\epsilon \\approx 1$. In Laplace smoothing, a pseudocount $\\alpha$ is added to each feature count during training of the model. Most offen the value set to $1$. The values of $P(Xm|Y)$ is then recalculated by the formula: $$\\frac{\\alpha + count(y = k,Xm = j)}{M\\alpha + count(y = k)}$$ where $M$ is the different possible values of $Xm$."
   ]
  },
  {
   "cell_type": "markdown",
   "metadata": {},
   "source": [
    "### Question 3: Model Comparison\n",
    "- a) Implement the K-NN classifier, and find the optimal value for K. \n",
    "- b) Based on the obtained value for K in question 3 (a), evaluate the classifier using accuracy and chosen metric(s) on test data. Explain your observations on how the classifiers have performed based on the metric(s). Discuss the performance of the classifiers in comparison with the Zero-R baseline.\n",
    "- c) Compare the classifiers (Naive Bayes and K-NN) based on metrics' results. Provide a comparatory discussion on the results. [no programming required]"
   ]
  },
  {
   "cell_type": "code",
   "execution_count": 3176,
   "metadata": {},
   "outputs": [
    {
     "name": "stdout",
     "output_type": "stream",
     "text": [
      "Optimal K: 25\n"
     ]
    }
   ],
   "source": [
    "#Question 3(a) Answer:\n",
    "\n",
    "# We ran the model for 10 iterations and averaged our results. This is to have a fair comparison with \n",
    "# NB classifier. For each time the program is tested, different average values of the metrics \n",
    "# are obtained as our `split-data` function randomly assigns an instance to the training \n",
    "# dataset or the testing dataset based on the ratio of the split. \n",
    "\n",
    "# Ratio is set to 0.8 to have a larger training data set than testing data set\n",
    "\n",
    "# ratio to split the training data and testing data\n",
    "ratio = 0.8\n",
    "\n",
    "# Initial K value set to 50 to obtain the optimal K value over multiple iterations\n",
    "K = 50\n",
    "\n",
    "max_loop = 10\n",
    "\n",
    "max_accuracy = [0]*K\n",
    "\n",
    "optimal_K = []\n",
    "\n",
    "# Runs the KNN classifier for 10 iterations with K values from 1 to 50 and find the average performance metrics\n",
    "for neighbour in range(K):\n",
    "    \n",
    "    total_iter_accuracy = 0\n",
    "    \n",
    "    for index in range(max_loop):\n",
    "\n",
    "        train_data,test_data = split_data(processed_data,ratio) # Splitting of data\n",
    "\n",
    "        predictions = KNN(train_data,test_data,K) # Predict KNN\n",
    "\n",
    "        accuracy,f1,precision,recall = evaluate(predictions,test_data) # Evaluate KNN\n",
    "        \n",
    "        total_iter_accuracy += accuracy\n",
    "        \n",
    "    max_accuracy[neighbour] = max_accuracy[neighbour] + total_iter_accuracy\n",
    "    \n",
    "for value in max_accuracy:\n",
    "    optimal_K.append(value / max_loop)\n",
    "\n",
    "print('Optimal K: {0}'.format(optimal_K.index(max(optimal_K))))\n"
   ]
  },
  {
   "cell_type": "markdown",
   "metadata": {},
   "source": [
    "**Q3(a) Answer:** For this iteration set we obtained an optimal $K$ value of $25$. However, the value will change if the iterative set is ran again due to handout of a random train and test dataset during each run. In our case the value has been obtained as an odd value however, since we are iterating over all the values of K from 1 to 50 and calculating the average to find the maximum average accuracy, an even value could also be obtained. "
   ]
  },
  {
   "cell_type": "code",
   "execution_count": 3177,
   "metadata": {},
   "outputs": [
    {
     "name": "stdout",
     "output_type": "stream",
     "text": [
      "Accuracy: 0.8056569343065693, F1-score: 0.18196895726938334, Precision: 0.5729937216779322, Recall: 0.10940790339817993\n",
      "\n",
      "\n",
      "Baseline Accuracy: 0.8007299270072993, Baseline F1-score: 0.0, Baseline Precision: 0.0, Baseline Recall: 0.0\n"
     ]
    }
   ],
   "source": [
    "#Question 3(b) Answer:\n",
    "\n",
    "# We ran the model for 10 iterations and averaged our results. This is to have a fair comparison with \n",
    "# NB classifier. For each time the program is tested, different average values of the metrics \n",
    "# are obtained as our `split-data` function randomly assigns an instance to the training \n",
    "# dataset or the testing dataset based on the ratio of the split. \n",
    "\n",
    "# Ratio is set to 0.8 to have a larger training data set than testing data set\n",
    "\n",
    "# ratio to split the training data and testing data\n",
    "\n",
    "# Optimal value of K\n",
    "K = 27\n",
    "\n",
    "ratio = 0.8\n",
    "\n",
    "total_accuracy = []\n",
    "\n",
    "total_f1 = []\n",
    "\n",
    "total_precision = []\n",
    "\n",
    "total_recall = []\n",
    "\n",
    "total_baseline_accuracy = []\n",
    "\n",
    "total_baseline_f1 = []\n",
    "\n",
    "total_baseline_precision = []\n",
    "    \n",
    "total_baseline_recall = []\n",
    "\n",
    "max_loop = 10\n",
    "\n",
    "# Runs the KNN classifier for 10 iterations and find the average performance metrics\n",
    "for index in range(max_loop):\n",
    "\n",
    "    train_data,test_data = split_data(processed_data,ratio) # Splitting of data\n",
    "\n",
    "    predictions = KNN(train_data,test_data,K) # Predict KNN\n",
    "\n",
    "    accuracy,f1,precision,recall = evaluate(predictions,test_data) #Evaluate KNN\n",
    "\n",
    "    total_accuracy.append(accuracy)\n",
    "\n",
    "    total_f1.append(f1)\n",
    "\n",
    "    total_precision.append(precision)\n",
    "\n",
    "    total_recall.append(recall)\n",
    "\n",
    "    baseline_predicted_class = zero_R(train_data,test_data) # Calculate Baseline predictions\n",
    "\n",
    "    # Evaluating Baseline predictions\n",
    "    baseline_accuracy,baseline_f1,baseline_precision,baseline_recall = evaluate(baseline_predicted_class,test_data)\n",
    "\n",
    "    total_baseline_accuracy.append(baseline_accuracy)\n",
    "\n",
    "    total_baseline_f1.append(baseline_f1)\n",
    "\n",
    "    total_baseline_precision.append(baseline_precision)\n",
    "\n",
    "    total_baseline_recall.append(baseline_recall)\n",
    "\n",
    "# Values are calculated and averaged\n",
    "print('Accuracy: {0}, F1-score: {1}, Precision: {2}, Recall: {3}'\n",
    "                  .format((np.sum(total_accuracy) / max_loop),\n",
    "                  (np.sum(total_f1) / max_loop),\n",
    "                  (np.sum(total_precision) / max_loop),\n",
    "                 (np.sum(total_recall) / max_loop)))\n",
    "\n",
    "print('\\n')\n",
    "print('Baseline Accuracy: {0}, Baseline F1-score: {1}, Baseline Precision: {2}, Baseline Recall: {3}'\n",
    "                  .format((np.sum(total_baseline_accuracy) / max_loop),\n",
    "                 (np.sum(total_baseline_f1) / max_loop),\n",
    "                 (np.sum(total_baseline_precision) / max_loop),\n",
    "                  (np.sum(total_baseline_recall) / max_loop)))"
   ]
  },
  {
   "cell_type": "markdown",
   "metadata": {},
   "source": [
    "**Q3(b) Answer:** We ran our test for $10$ iterations to reduce the computation time and obtain a fair comparison with Categorical Naive Bayes Classifier. We took the average for all the performance metrics for the $10$ iterations. The following is the performance of our KNN Classifier based on the metrics. \n",
    "\n",
    "Based on the metrics we estimated the $Accuracy$ of the model to be $\\approx 0.806$. Our other metrics are different from each other with KNN. Our $F1-score$ comes to $\\approx 0.181$. Our $Precision$ is higher approximating to $\\approx 0.572$. This shows that our KNN Classifier calculated lower number of false positive values compared with the true positive values. However, the classifier calculated a larger false negatives with the same false positive value due to which our $Recall$ value approximates to $\\approx 0.109$.\n",
    "\n",
    "When compared with $Zero-R$ baseline we obtained a value of $\\approx 0.800$ for $Zero-R$ baseline which is much closer to KNN accuracy but negligibally lower. All the other metrics are $0$ for $Zero-R$ baseline rule. Being slightly better, the KNN did improve the predictiability marginally. This could be due to lack of distributed data."
   ]
  },
  {
   "cell_type": "markdown",
   "metadata": {},
   "source": [
    "**Q3(c) Answer:** The KNN performed marginally better when predicting the number of true postive classes than Naive Bayes. However, it is computationally slow. Also, it is less affected by data distribution in terms of $Precision$ as it scored higher than Naive Bayes and therefore predicts lower false positives. This means that KNN is more precise in correct predictions. \n",
    "\n",
    "Naive Bayes, scores better in $F1-score$ and $Recall$. This means that according to our implementation Naive Bayes is better at predicting more actual positive values compared to the total set of positive values.\n",
    "\n",
    "Furthermore, KNN also performance marginally better for categorical datasets than Naive Bayes'."
   ]
  },
  {
   "cell_type": "markdown",
   "metadata": {},
   "source": [
    "## References:\n",
    "\n",
    "[1]: Scikit-learn.org. 2020. 3.3. Metrics And Scoring: Quantifying The Quality Of Predictions — Scikit-Learn 0.23.2 Documentation. [online] Available at: <https://scikit-learn.org/stable/modules/model_evaluation.html> [Accessed 9 September 2020].\n",
    "\n",
    "[2]: Docs.scipy.org. 2020. Numpy.Sum — Numpy V1.10 Manual. [online] Available at: <https://docs.scipy.org/doc/numpy-1.10.1/reference/generated/numpy.sum.html> [Accessed 7 September 2020].\n",
    "\n",
    "[3]: Pandas.pydata.org. 2020. Pandas.Dataframe — Pandas 1.1.2 Documentation. [online] Available at: <https://pandas.pydata.org/pandas-docs/stable/reference/api/pandas.DataFrame.html> [Accessed 7 September 2020].\n",
    "\n",
    "[4]: Week 2 Workshop Introduction to Jupyter\n",
    "\n",
    "[5]: Week 2 Coding Demo\n",
    "\n",
    "[5]: Week 3 Workshop\n",
    "\n",
    "[6]: Week 4 Workshop\n",
    "\n",
    "[7]: Week 4 Coding Demo"
   ]
  }
 ],
 "metadata": {
  "kernelspec": {
   "display_name": "Python 3",
   "language": "python",
   "name": "python3"
  },
  "language_info": {
   "codemirror_mode": {
    "name": "ipython",
    "version": 3
   },
   "file_extension": ".py",
   "mimetype": "text/x-python",
   "name": "python",
   "nbconvert_exporter": "python",
   "pygments_lexer": "ipython3",
   "version": "3.8.3"
  }
 },
 "nbformat": 4,
 "nbformat_minor": 2
}
